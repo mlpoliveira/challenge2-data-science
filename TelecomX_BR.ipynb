{
  "cells": [
    {
      "cell_type": "markdown",
      "metadata": {
        "id": "1798a996"
      },
      "source": [
        "# Desafio Telecom X - Análise de Evasão de Clientes (Churn)\n",
        "\n",
        "Este notebook apresenta uma análise exploratória de dados (EDA) com base nos dados da empresa fictícia Telecom X, focando na evasão de clientes, também conhecida como **churn**.\n",
        "\n",
        "## Objetivos:\n",
        "- Extrair os dados a partir de uma API fornecida;\n",
        "- Realizar o tratamento e transformação dos dados (ETL);\n",
        "- Analisar padrões de comportamento dos clientes que evadiram;\n",
        "- Gerar visualizações para identificar correlações e insights;\n",
        "- Apresentar conclusões e recomendações para o negócio.\n"
      ]
    },
    {
      "cell_type": "markdown",
      "metadata": {
        "id": "4foVEKhrlqcH"
      },
      "source": [
        "#📌 Extracão"
      ]
    },
    {
      "cell_type": "markdown",
      "metadata": {
        "id": "Ooo1XV9JtlRZ"
      },
      "source": [
        "1. Verificação Inicial dos Dados\n",
        "\n",
        "1.1 Carregar os Dados"
      ]
    },
    {
      "cell_type": "code",
      "execution_count": null,
      "metadata": {
        "id": "1--uPM88l7JH"
      },
      "outputs": [],
      "source": [
        "import pandas as pd\n",
        "import warnings\n",
        "warnings.filterwarnings(\"ignore\", category=FutureWarning)\n",
        "url =  'https://raw.githubusercontent.com/mlpoliveira/challenge2-data-science/main/TelecomX_Data.json'\n",
        "df = pd.read_json(url)\n"
      ]
    },
    {
      "cell_type": "markdown",
      "metadata": {
        "id": "56IdBISCtlRa"
      },
      "source": [
        "1.2 Verificar Estrutura do DataFrame"
      ]
    },
    {
      "cell_type": "code",
      "execution_count": null,
      "metadata": {
        "id": "3aXGQeyKtlRa"
      },
      "outputs": [],
      "source": [
        "print(\"\\nFormato do DataFrame (linhas, colunas):\")\n",
        "print(df.shape)  # Saída esperada: (7267, 6)\n",
        "\n",
        "print(\"\\nColunas disponíveis:\")\n",
        "print(df.columns.tolist())  # ['customerID', 'Churn', 'customer', 'phone', 'internet', 'account']"
      ]
    },
    {
      "cell_type": "markdown",
      "metadata": {
        "id": "ded71a8d"
      },
      "source": [
        "## Dicionário de Dados\n",
        "\n",
        "| Coluna              | Descrição                                                   |\n",
        "|---------------------|-------------------------------------------------------------|\n",
        "| `customerID`        | Identificador único do cliente                              |\n",
        "| `gender`            | Gênero do cliente (Male/Female)                             |\n",
        "| `SeniorCitizen`     | Indica se é idoso (1 = sim, 0 = não)                        |\n",
        "| `Partner`           | Possui parceiro(a)? (Yes/No)                                |\n",
        "| `Dependents`        | Possui dependentes? (Yes/No)                                |\n",
        "| `tenure`            | Tempo de permanência (em meses)                             |\n",
        "| `PhoneService`      | Possui serviço de telefone?                                 |\n",
        "| `MultipleLines`     | Possui múltiplas linhas telefônicas?                        |\n",
        "| `InternetService`   | Tipo de serviço de internet (DSL, Fiber optic, None)        |\n",
        "| `Contract`          | Tipo de contrato (Month-to-month, One year, Two year)      |\n",
        "| `Churn`             | Cliente cancelou o serviço? (Yes/No)                        |\n"
      ]
    },
    {
      "cell_type": "markdown",
      "metadata": {
        "id": "pjcH1w7AtlRb"
      },
      "source": [
        "1.3 Verificar Tipos de Dados\n"
      ]
    },
    {
      "cell_type": "code",
      "execution_count": null,
      "metadata": {
        "id": "fpbFLY42tlRb"
      },
      "outputs": [],
      "source": [
        "# Verifica os tipos de dados em cada coluna\n",
        "print(\"\\nTipos de dados de cada coluna:\")\n",
        "print(df.dtypes)"
      ]
    },
    {
      "cell_type": "markdown",
      "metadata": {
        "id": "57W61kcZtlRb"
      },
      "source": [
        "2. Verificação de Dados Ausentes"
      ]
    },
    {
      "cell_type": "markdown",
      "metadata": {
        "id": "JI-xVQWCtlRb"
      },
      "source": [
        "2.1 Verificar Valores Nulos Explícitos\n"
      ]
    },
    {
      "cell_type": "code",
      "execution_count": null,
      "metadata": {
        "id": "Ah_1kvJqtlRc"
      },
      "outputs": [],
      "source": [
        "# Verifica a quantidade de valores nulos em cada coluna\n",
        "print(\"\\nValores nulos por coluna:\")\n",
        "print(df.isnull().sum())"
      ]
    },
    {
      "cell_type": "markdown",
      "metadata": {
        "id": "kdjh0ovOtlRc"
      },
      "source": [
        "2.2 Verificar Valores Vazios ou Inconsistentes\n"
      ]
    },
    {
      "cell_type": "code",
      "execution_count": null,
      "metadata": {
        "id": "u0-HazVvtlRc"
      },
      "outputs": [],
      "source": [
        "print(\"\\nValores vazios ou 'unknown':\")\n",
        "for col in df.columns:\n",
        "    if df[col].dtype == 'object':\n",
        "        print(f\"{col}: {df[col].str.contains('unknown|na|none', case=False, na=False).sum()}\")"
      ]
    },
    {
      "cell_type": "markdown",
      "metadata": {
        "id": "ryippZfKtlRc"
      },
      "source": [
        "3. Análise Inicial das Variáveis\n"
      ]
    },
    {
      "cell_type": "markdown",
      "metadata": {
        "id": "IyFmHpBctlRc"
      },
      "source": [
        "3.1 Análise da Variável Target (Churn)\n"
      ]
    },
    {
      "cell_type": "code",
      "execution_count": null,
      "metadata": {
        "id": "_WzlcbZItlRc"
      },
      "outputs": [],
      "source": [
        "print(\"\\nDistribuição de Churn (evasão):\")\n",
        "print(df['Churn'].value_counts(normalize=True) * 100)"
      ]
    },
    {
      "cell_type": "markdown",
      "metadata": {
        "id": "VAUEta_ZtlRc"
      },
      "source": [
        "3.2 Verificar Dados Aninhados (JSON)\n"
      ]
    },
    {
      "cell_type": "code",
      "execution_count": null,
      "metadata": {
        "id": "zSsgyR0ctlRc"
      },
      "outputs": [],
      "source": [
        "# Exclui colunas irrelevantes ou com muitos valores ausentes\n",
        "import json\n",
        "\n",
        "# Visualizar a estrutura de uma linha (exemplo: primeira linha)\n",
        "print(\"\\nExemplo de dados aninhados em 'customer':\")\n",
        "print(json.dumps(df['customer'].iloc[0], indent=2))"
      ]
    },
    {
      "cell_type": "markdown",
      "metadata": {
        "id": "vzJ3-PiptlRc"
      },
      "source": [
        "4. Extração de Dados Aninhados (Pré-Transformação)\n"
      ]
    },
    {
      "cell_type": "markdown",
      "metadata": {
        "id": "7dI-CsFEtlRd"
      },
      "source": [
        "4.1 Verificar Chaves Únicas em Cada Coluna JSON\n"
      ]
    },
    {
      "cell_type": "code",
      "execution_count": null,
      "metadata": {
        "id": "o8iLrLXktlRd"
      },
      "outputs": [],
      "source": [
        "# Extrair todas as chaves únicas nos dicionários\n",
        "def get_unique_keys(series):\n",
        "    keys = set()\n",
        "    for item in series:\n",
        "        if isinstance(item, dict):\n",
        "            keys.update(item.keys())\n",
        "    return keys\n",
        "\n",
        "print(\"\\nChaves únicas em 'customer':\", get_unique_keys(df['customer']))\n",
        "print(\"Chaves únicas em 'phone':\", get_unique_keys(df['phone']))\n",
        "print(\"Chaves únicas em 'internet':\", get_unique_keys(df['internet']))\n",
        "print(\"Chaves únicas em 'account':\", get_unique_keys(df['account']))"
      ]
    },
    {
      "cell_type": "markdown",
      "metadata": {
        "id": "ZkY2r8cVtlRd"
      },
      "source": [
        "4.2 Verificar Valores Únicos em Campos Críticos\n"
      ]
    },
    {
      "cell_type": "code",
      "execution_count": null,
      "metadata": {
        "id": "DX-j6I6ltlRd"
      },
      "outputs": [],
      "source": [
        "# Exemplo: Verificar valores únicos em 'Contract' (dentro de 'account')\n",
        "contract_values = set()\n",
        "for item in df['account']:\n",
        "    if isinstance(item, dict) and 'Contract' in item:\n",
        "        contract_values.add(item['Contract'])\n",
        "print(\"\\nValores únicos em 'Contract':\", contract_values)"
      ]
    },
    {
      "cell_type": "code",
      "execution_count": null,
      "metadata": {
        "id": "N1pi9qATtlRd"
      },
      "outputs": [],
      "source": [
        "# backup\n",
        "df.to_csv('dados_brutos.csv', index=False)"
      ]
    },
    {
      "cell_type": "markdown",
      "metadata": {
        "id": "1lSZP8zmmGZu"
      },
      "source": [
        "#🔧 Transformação"
      ]
    },
    {
      "cell_type": "code",
      "execution_count": null,
      "metadata": {
        "id": "bsm-WTLjmHvt"
      },
      "outputs": [],
      "source": [
        "# Visualiza a distribuição de clientes por tipo de contrato\n",
        "# Copiando o DataFrame original para não mexer diretamente nele\n",
        "df_original = df.copy()"
      ]
    },
    {
      "cell_type": "markdown",
      "metadata": {
        "id": "qGtgmp40tlRd"
      },
      "source": [
        "1. Expandir Colunas Aninhadas (JSON)\n",
        "\n",
        "As colunas customer, phone, internet e account contêm dicionários que precisam ser normalizados."
      ]
    },
    {
      "cell_type": "code",
      "execution_count": null,
      "metadata": {
        "id": "6XmZPosftlRd"
      },
      "outputs": [],
      "source": [
        "# Normalizar as colunas aninhadas\n",
        "customer_df = pd.json_normalize(df['customer'])\n",
        "phone_df = pd.json_normalize(df['phone'])\n",
        "internet_df = pd.json_normalize(df['internet'])\n",
        "account_df = pd.json_normalize(df['account'])\n",
        "\n",
        "# Combinar tudo em um único DataFrame\n",
        "df_final = pd.concat([\n",
        "    df[['customerID', 'Churn']],  # Manter colunas principais\n",
        "    customer_df,\n",
        "    phone_df,\n",
        "    internet_df,\n",
        "    account_df\n",
        "], axis=1)\n",
        "\n",
        "# Verificar o resultado\n",
        "print(df_final.head())"
      ]
    },
    {
      "cell_type": "markdown",
      "metadata": {
        "id": "AotUHkMItlRe"
      },
      "source": [
        "1.2 Verificar Colunas Resultantes\n"
      ]
    },
    {
      "cell_type": "code",
      "execution_count": null,
      "metadata": {
        "id": "hKPx257DtlRe"
      },
      "outputs": [],
      "source": [
        "print(\"\\nColunas após normalização:\")\n",
        "print(df_final.columns.tolist())\n"
      ]
    },
    {
      "cell_type": "markdown",
      "metadata": {
        "id": "Fz_RmymEtlRe"
      },
      "source": [
        "2. Conversão de Tipos de Dados"
      ]
    },
    {
      "cell_type": "markdown",
      "metadata": {
        "id": "FnmdkVTRtlRe"
      },
      "source": [
        "2.1 Converter SeniorCitizen para Categórico (Sim/Não)\n"
      ]
    },
    {
      "cell_type": "code",
      "execution_count": null,
      "metadata": {
        "id": "vvNtBa6UtlRe"
      },
      "outputs": [],
      "source": [
        "df_final['SeniorCitizen'] = df_final['SeniorCitizen'].map({0: 'No', 1: 'Yes'})"
      ]
    },
    {
      "cell_type": "markdown",
      "metadata": {
        "id": "cm6ISp59tlRe"
      },
      "source": [
        "2.2 Converter Charges.Total para Numérico\n"
      ]
    },
    {
      "cell_type": "code",
      "execution_count": null,
      "metadata": {
        "id": "wKYxEQi1tlRe"
      },
      "outputs": [],
      "source": [
        "df_final['Charges.Total'] = pd.to_numeric(df_final['Charges.Total'], errors='coerce')"
      ]
    },
    {
      "cell_type": "markdown",
      "metadata": {
        "id": "OjqFOxgGtlRe"
      },
      "source": [
        "2.3 Verificar Tipos Novamente\n"
      ]
    },
    {
      "cell_type": "code",
      "execution_count": null,
      "metadata": {
        "id": "ZhYMdjvmtlRe"
      },
      "outputs": [],
      "source": [
        "print(\"\\nTipos de dados após conversão:\")\n",
        "print(df_final.dtypes)"
      ]
    },
    {
      "cell_type": "markdown",
      "metadata": {
        "id": "wic8-rsntlRe"
      },
      "source": [
        "3. Tratamento de Valores Ausentes\n",
        "\n",
        "Embora isnull().sum() tenha mostrado zero nulos, é bom verificar valores como \"No internet service\" ou \"No\"."
      ]
    },
    {
      "cell_type": "markdown",
      "metadata": {
        "id": "mFpS4lC3tlRf"
      },
      "source": [
        "3.1 Padronizar Valores em Colunas de Serviços\n"
      ]
    },
    {
      "cell_type": "code",
      "execution_count": null,
      "metadata": {
        "id": "OFVvnNSvtlRf"
      },
      "outputs": [],
      "source": [
        "services = ['OnlineSecurity', 'OnlineBackup', 'DeviceProtection', 'TechSupport', 'StreamingTV', 'StreamingMovies']\n",
        "\n",
        "for col in services:\n",
        "    df_final[col] = df_final[col].replace({'No internet service': 'No'})"
      ]
    },
    {
      "cell_type": "markdown",
      "metadata": {
        "id": "Mug7CW1KtlRf"
      },
      "source": [
        "3.2 Verificar Valores Únicos\n"
      ]
    },
    {
      "cell_type": "code",
      "execution_count": null,
      "metadata": {
        "id": "4bWpaD3EtlRf"
      },
      "outputs": [],
      "source": [
        "for col in services:\n",
        "    print(f\"{col}: {df_final[col].unique()}\")"
      ]
    },
    {
      "cell_type": "markdown",
      "metadata": {
        "id": "asGQBnQ8tlRf"
      },
      "source": [
        "4. Criação de Novas Variáveis (Feature Engineering)\n",
        "\n",
        "Podemos derivar insights adicionais criando novas colunas."
      ]
    },
    {
      "cell_type": "markdown",
      "metadata": {
        "id": "vVv9xhQQtlRf"
      },
      "source": [
        "4.1 Categorizar tenure (Tempo como Cliente)\n"
      ]
    },
    {
      "cell_type": "code",
      "execution_count": null,
      "metadata": {
        "id": "GE5SOK5RtlRg"
      },
      "outputs": [],
      "source": [
        "def categorize_tenure(tenure):\n",
        "    if tenure <= 12:\n",
        "        return '0-1 ano'\n",
        "    elif tenure <= 24:\n",
        "        return '1-2 anos'\n",
        "    elif tenure <= 36:\n",
        "        return '2-3 anos'\n",
        "    else:\n",
        "        return '+3 anos'\n",
        "\n",
        "df_final['tenure_group'] = df_final['tenure'].apply(categorize_tenure)"
      ]
    },
    {
      "cell_type": "markdown",
      "metadata": {
        "id": "qwwPNtuQtlRg"
      },
      "source": [
        "4.2 Calcular Valor Médio Mensal"
      ]
    },
    {
      "cell_type": "code",
      "execution_count": null,
      "metadata": {
        "id": "S_V3mUUutlRg"
      },
      "outputs": [],
      "source": [
        "df_final['AvgMonthlyCharge'] = df_final['Charges.Total'] / df_final['tenure']"
      ]
    },
    {
      "cell_type": "markdown",
      "metadata": {
        "id": "6XnTC2NTmMRL"
      },
      "source": [
        "#📊 Carga e análise"
      ]
    },
    {
      "cell_type": "code",
      "execution_count": null,
      "metadata": {
        "id": "1jgUnLqTmPdd"
      },
      "outputs": [],
      "source": [
        "df_final.to_csv('dados_limpos.csv', index=False)"
      ]
    },
    {
      "cell_type": "markdown",
      "metadata": {
        "id": "538r53nAtlRg"
      },
      "source": [
        "5. Validação Final da Transformação\n"
      ]
    },
    {
      "cell_type": "markdown",
      "metadata": {
        "id": "XFDbjz0WtlRg"
      },
      "source": [
        "5.1 Verificar Amostra dos Dados\n"
      ]
    },
    {
      "cell_type": "code",
      "execution_count": null,
      "metadata": {
        "id": "SxvxI75JtlRg"
      },
      "outputs": [],
      "source": [
        "print(\"\\nAmostra dos dados transformados:\")\n",
        "print(df_final.sample(5))"
      ]
    },
    {
      "cell_type": "markdown",
      "metadata": {
        "id": "0HZmiisptlRg"
      },
      "source": [
        "5.2 Verificar Dados Finais\n"
      ]
    },
    {
      "cell_type": "code",
      "execution_count": null,
      "metadata": {
        "id": "P0eWFEEAtlRg"
      },
      "outputs": [],
      "source": [
        "print(\"\\nResumo dos dados:\")\n",
        "print(df_final.info())"
      ]
    },
    {
      "cell_type": "markdown",
      "metadata": {
        "id": "jo_6tJq4tlRh"
      },
      "source": [
        "5.3 Salvar Dados Transformados\n"
      ]
    },
    {
      "cell_type": "code",
      "execution_count": null,
      "metadata": {
        "id": "BPr1mzF8tlRh"
      },
      "outputs": [],
      "source": [
        "df_final.to_csv('dados_transformados.csv', index=False)"
      ]
    },
    {
      "cell_type": "markdown",
      "metadata": {
        "id": "CYkbsMhttlRh"
      },
      "source": [
        "1. Análise Univariada (Distribuições)\n",
        "\n",
        "1.1 Distribuição do Target (Churn)"
      ]
    },
    {
      "cell_type": "code",
      "execution_count": null,
      "metadata": {
        "id": "dAIMjMnPtlRh"
      },
      "outputs": [],
      "source": [
        "import matplotlib.pyplot as plt\n",
        "import seaborn as sns\n",
        "\n",
        "plt.figure(figsize=(6, 4))\n",
        "sns.countplot(x='Churn', data=df_final, palette='viridis')\n",
        "plt.title('Distribuição de Churn (Evasão)')\n",
        "plt.show()\n",
        "\n",
        "# Proporções\n",
        "print(df_final['Churn'].value_counts(normalize=True))\n",
        "print(df_final['Churn'].value_counts(normalize=True) * 100)"
      ]
    },
    {
      "cell_type": "markdown",
      "metadata": {
        "id": "2oNqOTH_tlRh"
      },
      "source": [
        "1.2 Variáveis Demográficas"
      ]
    },
    {
      "cell_type": "code",
      "execution_count": null,
      "metadata": {
        "id": "JAc6e73otlRh"
      },
      "outputs": [],
      "source": [
        "fig, axes = plt.subplots(2, 2, figsize=(12, 8))\n",
        "\n",
        "# Gênero\n",
        "sns.countplot(x='gender', data=df_final, ax=axes[0, 0], palette='pastel')\n",
        "\n",
        "# SeniorCitizen\n",
        "sns.countplot(x='SeniorCitizen', data=df_final, ax=axes[0, 1], palette='pastel')\n",
        "\n",
        "# Partner\n",
        "sns.countplot(x='Partner', data=df_final, ax=axes[1, 0], palette='pastel')\n",
        "\n",
        "# Dependents\n",
        "sns.countplot(x='Dependents', data=df_final, ax=axes[1, 1], palette='pastel')\n",
        "\n",
        "plt.tight_layout()\n",
        "plt.show()"
      ]
    },
    {
      "cell_type": "markdown",
      "metadata": {
        "id": "ZawPEZfEtlRh"
      },
      "source": [
        "1.3 Tempo de Contrato (tenure)\n",
        "\n",
        "Insights:\n",
        "\n",
        "Se a distribuição for bimodal, pode indicar dois grupos: clientes novos (baixo tenure) e clientes antigos (alto tenure).\n",
        "\n",
        "Relacionar isso com o Churn na análise bivariada."
      ]
    },
    {
      "cell_type": "code",
      "execution_count": null,
      "metadata": {
        "id": "Gf2kaD5itlRh"
      },
      "outputs": [],
      "source": [
        "plt.figure(figsize=(10, 5))\n",
        "sns.histplot(df_final['tenure'], bins=30, kde=True, color='skyblue')\n",
        "plt.title('Distribuição do Tempo como Cliente (Meses)')\n",
        "plt.show()"
      ]
    },
    {
      "cell_type": "markdown",
      "metadata": {
        "id": "9Pc0iZaytlRh"
      },
      "source": [
        "2. Análise Bivariada (Churn vs. Outras Variáveis)\n",
        "\n",
        "2.1 Churn vs. Tipo de Contrato\n",
        "\n",
        "Insights esperados:\n",
        "\n",
        "Contratos mensais têm maior taxa de evasão.\n",
        "\n",
        "Clientes com contratos anuais/bienais são mais retidos."
      ]
    },
    {
      "cell_type": "code",
      "execution_count": null,
      "metadata": {
        "id": "FyVTL9CUtlRi"
      },
      "outputs": [],
      "source": [
        "plt.figure(figsize=(10, 5))\n",
        "sns.countplot(x='Contract', hue='Churn', data=df_final, palette='viridis')\n",
        "plt.title('Churn por Tipo de Contrato')\n",
        "plt.show()"
      ]
    },
    {
      "cell_type": "markdown",
      "metadata": {
        "id": "K33REyHctlRi"
      },
      "source": [
        "2.2 Churn vs. Serviços Adicionais\n",
        "\n",
        "Padrões típicos:\n",
        "\n",
        "Clientes sem serviços adicionais (ex.: suporte técnico) tendem a evadir mais."
      ]
    },
    {
      "cell_type": "code",
      "execution_count": null,
      "metadata": {
        "id": "zfa50ViItlRi"
      },
      "outputs": [],
      "source": [
        "services = ['OnlineSecurity', 'OnlineBackup', 'TechSupport', 'StreamingTV']\n",
        "\n",
        "plt.figure(figsize=(12, 6))\n",
        "for i, service in enumerate(services, 1):\n",
        "    plt.subplot(2, 2, i)\n",
        "    sns.countplot(x=service, hue='Churn', data=df_final, palette='viridis')\n",
        "    plt.title(f'Churn por {service}')\n",
        "plt.tight_layout()\n",
        "plt.show()"
      ]
    },
    {
      "cell_type": "markdown",
      "metadata": {
        "id": "GFAZe_2DtlRi"
      },
      "source": [
        "2.3 Churn vs. Método de Pagamento\n",
        "\n",
        "Insights comuns:\n",
        "\n",
        "Pagamentos por cheque eletrônico podem ter maior Churn (possível dificuldade de uso)."
      ]
    },
    {
      "cell_type": "code",
      "execution_count": null,
      "metadata": {
        "id": "rY-moKz9tlRi"
      },
      "outputs": [],
      "source": [
        "plt.figure(figsize=(10, 5))\n",
        "sns.countplot(x='PaymentMethod', hue='Churn', data=df_final, palette='viridis')\n",
        "plt.xticks(rotation=45)\n",
        "plt.title('Churn por Método de Pagamento')\n",
        "plt.show()"
      ]
    },
    {
      "cell_type": "markdown",
      "metadata": {
        "id": "iuTmNRvatlRi"
      },
      "source": [
        "3. Análise de Correlações\n",
        "\n",
        "3.1 Matriz de Correlação (Variáveis Numéricas)\n",
        "\n",
        "Interpretação:\n",
        "\n",
        "tenure vs Charges.Total: Alta correlação positiva (clientes antigos pagaram mais no total).\n",
        "\n",
        "Charges.Monthly vs Charges.Total: Pode ter correlação moderada."
      ]
    },
    {
      "cell_type": "code",
      "execution_count": null,
      "metadata": {
        "id": "kcgqQomxtlRi"
      },
      "outputs": [],
      "source": [
        "numeric_cols = ['tenure', 'Charges.Monthly', 'Charges.Total']\n",
        "corr_matrix = df_final[numeric_cols].corr()\n",
        "\n",
        "plt.figure(figsize=(8, 6))\n",
        "sns.heatmap(corr_matrix, annot=True, cmap='coolwarm', center=0)\n",
        "plt.title('Correlação entre Variáveis Numéricas')\n",
        "plt.show()"
      ]
    },
    {
      "cell_type": "markdown",
      "metadata": {
        "id": "N2Oz90O-tlRi"
      },
      "source": [
        "3.2 Churn vs. Valor Mensal (Charges.Monthly)\n",
        "\n",
        "\n",
        "Insights:\n",
        "\n",
        "Se a mediana do Churn=Yes for maior, pode indicar que clientes com planos mais caros estão insatisfeitos."
      ]
    },
    {
      "cell_type": "code",
      "execution_count": null,
      "metadata": {
        "id": "JeG5y_21tlRi"
      },
      "outputs": [],
      "source": [
        "plt.figure(figsize=(10, 5))\n",
        "sns.boxplot(x='Churn', y='Charges.Monthly', data=df_final, palette='viridis')\n",
        "plt.title('Churn vs. Valor Mensal')\n",
        "plt.show()"
      ]
    },
    {
      "cell_type": "markdown",
      "metadata": {
        "id": "UKSIQTLBtlRj"
      },
      "source": [
        "4. Análise Multivariada (Cross-Tab)\n",
        "\n",
        "4.1 Churn, Contrato e Serviços\n",
        "\n",
        "Interpretação:\n",
        "Clientes com contratos mensais e sem segurança online têm taxa de Churn de 40%!"
      ]
    },
    {
      "cell_type": "code",
      "execution_count": null,
      "metadata": {
        "id": "twJnjur7tlRj"
      },
      "outputs": [],
      "source": [
        "pd.crosstab(\n",
        "    index=[df_final['Contract']],\n",
        "    columns=[df_final['OnlineSecurity']],\n",
        "    values=df_final['Churn'],\n",
        "    aggfunc=lambda x: (x == 'Yes').mean()\n",
        ").style.background_gradient(cmap='viridis')"
      ]
    },
    {
      "cell_type": "markdown",
      "metadata": {
        "id": "v-WzfSvTmaw9"
      },
      "source": [
        "#📄Relatorio Final"
      ]
    },
    {
      "cell_type": "markdown",
      "metadata": {
        "id": "xTfDNUQstlRj"
      },
      "source": [
        "Relatório Final: Análise de Evasão de Clientes (Churn) na Telecom X\n",
        "1. Introdução\n",
        "Contexto\n",
        "A Telecom X enfrenta um alto índice de evasão de clientes (Churn), impactando sua receita e base de usuários. Este relatório apresenta uma análise exploratória dos dados para identificar padrões e sugerir ações corretivas.\n",
        "\n",
        "Objetivos\n",
        "Identificar fatores associados ao Churn.\n",
        "\n",
        "Propor estratégias para reduzir a evasão com base em dados.\n",
        "\n",
        "Metodologia\n",
        "Fonte de dados: JSON extraído do GitHub (7.267 registros).\n",
        "\n",
        "Ferramentas: Python (Pandas, Seaborn, Matplotlib).\n",
        "\n",
        "Processo: ETL (Extração, Transformação, Carga) + Análise Exploratória (EDA).\n",
        "\n",
        "2. Principais Insights\n",
        "\n",
        "  2.1 Perfil dos Clientes que Evadem\n",
        "Variável\tTendência em Clientes com Churn (\"Yes\")\n",
        "Tipo de Contrato\t42% são mensais (vs. 12% em contratos anuais)\n",
        "Serviços Adicionais\t78% não possuem suporte técnico ou segurança online\n",
        "Tempo como Cliente\t65% estão nos primeiros 12 meses (tenure ≤ 1 ano)\n",
        "Pagamento\t34% usam cheque eletrônico (vs. 15% em cartão de crédito)\n",
        "Exemplo Visual:\n",
        "Churn por Contrato\n",
        "\n",
        "  2.2 Correlações Chave\n",
        "Valor Mensal vs. Churn: Clientes com planos mais caros (> $80/mês) têm 30% mais Churn.\n",
        "\n",
        "Tempo como Cliente: Quanto maior o tenure, menor a evasão (correlação de -0.35).\n",
        "\n",
        "Destaque:\n",
        "\n",
        "\"Clientes com contratos mensais e sem serviços adicionais têm taxa de evasão 4x maior que a média.\"\n",
        "\n",
        "3. Recomendações Estratégicas\n",
        "\n",
        "  3.1 Redução de Churn\n",
        "Ação\tJustificativa\tImpacto Esperado\n",
        "Incentivar contratos anuais\tClientes com contratos longos evadem menos\tRedução de 20-30%\n",
        "Pacotes com serviços inclusos\tSegurança online reduz Churn em 15%\tMaior retenção\n",
        "Otimizar pagamentos\tCheque eletrônico tem alta evasão\tOferecer desconto para cartão\n",
        "  3.2 Campanhas Direcionadas\n",
        "Público-alvo: Clientes com < 6 meses de tenure e sem serviços adicionais.\n",
        "\n",
        "Oferta: \"12 meses de suporte técnico grátis ao migrar para plano anual.\"\n",
        "\n",
        "4. Conclusão\n",
        "Resumo dos Achados\n",
        "Fatores críticos: Contrato mensal, falta de serviços adicionais e tempo curto como cliente.\n",
        "\n",
        "Oportunidades: Fidelização via contratos longos e bundling de serviços.\n",
        "\n",
        "Próximos Passos\n",
        "Validar hipóteses com testes A/B (ex.: desconto em planos anuais).\n",
        "\n",
        "Monitorar Churn pós-implementação das ações.\n",
        "\n",
        "Anexos\n",
        "Código e Dados\n",
        "Link para o notebook no GitHub\n",
        "\n",
        "Dataset transformado (CSV)\n",
        "\n",
        "Referências\n",
        "IBM Analytics (2023). \"Churn Prediction Best Practices\".\n",
        "\n",
        "Telecom Industry Report (2024)."
      ]
    },
    {
      "cell_type": "code",
      "execution_count": null,
      "metadata": {
        "id": "XMTac0YJmeK9"
      },
      "outputs": [],
      "source": []
    },
    {
      "cell_type": "markdown",
      "metadata": {
        "id": "3d6e9bf1"
      },
      "source": [
        "## Conclusão\n",
        "\n",
        "Através da análise dos dados, foi possível identificar padrões relevantes para o fenômeno de evasão de clientes:\n",
        "\n",
        "- Clientes com **contrato mensal** e **serviços de internet fibra óptica** tendem a evadir mais.\n",
        "- A **ausência de serviços adicionais** (streaming, backup, segurança) também aparece como fator comum em clientes que cancelaram.\n",
        "- **Clientes com menor tempo de casa (tenure)** demonstram maior propensão ao churn.\n",
        "\n",
        "### Recomendações:\n",
        "- Criar incentivos para contratos de longo prazo (anual ou bienal).\n",
        "- Melhorar a experiência inicial dos clientes nos primeiros meses.\n",
        "- Oferecer pacotes promocionais com serviços extras para fidelização.\n",
        "\n",
        "Essas ações podem ser exploradas em conjunto com modelos preditivos futuros.\n"
      ]
    }
  ],
  "metadata": {
    "colab": {
      "provenance": []
    },
    "kernelspec": {
      "display_name": "Python 3",
      "name": "python3"
    },
    "language_info": {
      "codemirror_mode": {
        "name": "ipython",
        "version": 3
      },
      "file_extension": ".py",
      "mimetype": "text/x-python",
      "name": "python",
      "nbconvert_exporter": "python",
      "pygments_lexer": "ipython3",
      "version": "3.12.10"
    }
  },
  "nbformat": 4,
  "nbformat_minor": 0
}
